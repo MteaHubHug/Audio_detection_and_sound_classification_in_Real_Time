{
  "nbformat": 4,
  "nbformat_minor": 0,
  "metadata": {
    "colab": {
      "name": "Tejac_Strojno1.ipynb",
      "private_outputs": true,
      "provenance": [],
      "collapsed_sections": []
    },
    "kernelspec": {
      "display_name": "Python 3",
      "name": "python3"
    }
  },
  "cells": [
    {
      "cell_type": "markdown",
      "metadata": {
        "id": "p9GxfflBZ05s"
      },
      "source": [
        "# Detekcija i klasifikacija zvuka; Matea Lukić\r\n",
        "\r\n",
        "Koristit ću YAMNet. To je duboka mreža koja predviđa 521 audio događaj [klase] (https://github.com/tensorflow/models/blob/master/research/audioset/yamnet/yamnet_class_map.csv) iz [korpusa AudioSet-YouTube] (http : //g.co/audioset)  na kojem je mreža trenirana."
      ]
    },
    {
      "cell_type": "code",
      "metadata": {
        "id": "HmJClZ6IPkdk"
      },
      "source": [
        "from google.colab import drive\n",
        "drive.mount('/content/drive')"
      ],
      "execution_count": null,
      "outputs": []
    },
    {
      "cell_type": "code",
      "metadata": {
        "id": "-LfQ3UMDbZlR"
      },
      "source": [
        "%cd /content/drive/MyDrive/STROJNO"
      ],
      "execution_count": null,
      "outputs": []
    },
    {
      "cell_type": "code",
      "metadata": {
        "id": "Bteu7pfkpt_f"
      },
      "source": [
        "import tensorflow as tf\n",
        "import tensorflow_hub as hub\n",
        "import numpy as np\n",
        "import csv\n",
        "\n",
        "import matplotlib.pyplot as plt\n",
        "from IPython.display import Audio\n",
        "from scipy.io import wavfile"
      ],
      "execution_count": null,
      "outputs": []
    },
    {
      "cell_type": "markdown",
      "metadata": {
        "id": "YSVs3zRrrYmY"
      },
      "source": [
        "Učitavamo model iz TensorFlow Hub-a.\n",
        "\n",
        "Više o modelu se može naći na sljedećoj poveznici :  [url_modela](https://tfhub.dev/google/yamnet/1)"
      ]
    },
    {
      "cell_type": "code",
      "metadata": {
        "id": "VX8Vzs6EpwMo"
      },
      "source": [
        "# Ucitavanje modela\n",
        "model = hub.load('https://tfhub.dev/google/yamnet/1')"
      ],
      "execution_count": null,
      "outputs": []
    },
    {
      "cell_type": "markdown",
      "metadata": {
        "id": "lxWx6tOdtdBP"
      },
      "source": [
        "Datoteka s labelama učitat će se iz modelovih assets-a i prisutna je u `model.class_map_path ()`.\n",
        "\n",
        "Učitat ću ju u varijablu :  `class_names`.\n",
        "\n"
      ]
    },
    {
      "cell_type": "code",
      "metadata": {
        "id": "EHSToAW--o4U"
      },
      "source": [
        "# Pronalazim naziv klase s najboljom ocjenom.\n",
        "def class_names_from_csv(class_map_csv_text):\n",
        "  \"\"\"Returns list of class names corresponding to score vector.\"\"\"\n",
        "  class_names = []\n",
        "  with tf.io.gfile.GFile(class_map_csv_text) as csvfile:\n",
        "    reader = csv.DictReader(csvfile)\n",
        "    for row in reader:\n",
        "      class_names.append(row['display_name'])\n",
        "\n",
        "  return class_names\n",
        "\n",
        "class_map_path = model.class_map_path().numpy()\n",
        "class_names = class_names_from_csv(class_map_path)"
      ],
      "execution_count": null,
      "outputs": []
    },
    {
      "cell_type": "markdown",
      "metadata": {
        "id": "mSFjRwkZ59lU"
      },
      "source": [
        "Dodaja metode za provjeru i pretvorbu učitanog zvuka u odgovarajući sample_rate (16K). Treba biti u formatu .wav 16kHz, mono."
      ]
    },
    {
      "cell_type": "code",
      "metadata": {
        "id": "LizGwWjc5w6A"
      },
      "source": [
        "def ensure_sample_rate(original_sample_rate, waveform,\n",
        "                       desired_sample_rate=16000):  ### 16 kHz\n",
        "  \"\"\"Resample waveform if required.\"\"\"\n",
        "  if original_sample_rate != desired_sample_rate:\n",
        "    desired_length = int(round(float(len(waveform)) /\n",
        "                               original_sample_rate * desired_sample_rate))\n",
        "    waveform = scipy.signal.resample(waveform, desired_length)\n",
        "  return desired_sample_rate, waveform"
      ],
      "execution_count": null,
      "outputs": []
    },
    {
      "cell_type": "markdown",
      "metadata": {
        "id": "AZEgCobA9bWl"
      },
      "source": [
        "## Download i priprema zvučne datoteke\n",
        "\n",
        "Tu ćemo skinuti i preslušati .wav audio datoteku koju sam pripremila.\n",
        "\n",
        "Napomena: Očekivana audio datoteka trebala bi biti mono wav datoteka sa brzinom uzorkovanja od 16 kHz.\n",
        "\n",
        "Stoga, svoj audio zapis u kojem sam rekla riječ \"strojno\" ubacujem u konverter G711 na linku : https://g711.org/ i biram ::: \n",
        "\" High Definition WAV (16Khz, Mono, 16-Bit PCM) \"\n",
        "\n",
        "Također ću učitati još neke zapise za demo, \n",
        "Jedan je mjaukanje mačke, a drugi je glazbeni isječak koji sam skinula sa sljedećeg linka : : : http://www.music.helsinki.fi/tmt/opetus/uusmedia/esim/index-e.html pod nazivom \"  a2002011001-e02-16kHz.wav  \" te provukla kroz spomenuti konverter. "
      ]
    },
    {
      "cell_type": "code",
      "metadata": {
        "id": "D8LKmqvGzZzr"
      },
      "source": [
        "!curl -O https://storage.googleapis.com/audioset/miaow_16k.wav # link do zvuka mjaukanja mačke"
      ],
      "execution_count": null,
      "outputs": []
    },
    {
      "cell_type": "code",
      "metadata": {
        "id": "e_ZgIxOdcsbK"
      },
      "source": [
        "!curl -O https://drive.google.com/file/d/1tSNonXTEfI9Lvyky1VXiAxGvqk2w59eX/view?usp=sharing  # link do zapisa glazbe"
      ],
      "execution_count": null,
      "outputs": []
    },
    {
      "cell_type": "code",
      "metadata": {
        "id": "gDGFauG5T0fs"
      },
      "source": [
        "!curl -0 https://drive.google.com/file/d/1u9quFdfEjaviTJ7pjXctnUsP9DsgYzGY/view?usp=sharing   ### link do zvucne datoteke gdje ja govorim \"strojno učenje\""
      ],
      "execution_count": null,
      "outputs": []
    },
    {
      "cell_type": "code",
      "metadata": {
        "id": "Wo9KJb-5zuz1"
      },
      "source": [
        "wav_file_name = 'Govor_strojno_ucenje01.wav'\n",
        "#wav_file_name = 'orkestar33.wav'\n",
        "#wav_file_name = 'miaow_16k.wav'\n",
        "\n",
        "sample_rate, wav_data = wavfile.read(wav_file_name, 'rb')\n",
        "sample_rate, wav_data = ensure_sample_rate(sample_rate, wav_data)\n",
        "\n",
        "# Show some basic information about the audio.\n",
        "duration = len(wav_data)/sample_rate\n",
        "print(f'Sample rate: {sample_rate} Hz')\n",
        "print(f'Total duration: {duration:.2f}s')\n",
        "print(f'Size of the input: {len(wav_data)}')\n",
        "\n",
        "# Listening to the wav file.\n",
        "Audio(wav_data, rate=sample_rate)"
      ],
      "execution_count": null,
      "outputs": []
    },
    {
      "cell_type": "markdown",
      "metadata": {
        "id": "P9I290COsMBm"
      },
      "source": [
        "Wav datoteku treba normalizirati na vrijednosti u rangu`[-1.0, 1.0]` (kako je navedeno u [dokumentaciji](https://tfhub.dev/google/yamnet/1))."
      ]
    },
    {
      "cell_type": "code",
      "metadata": {
        "id": "bKr78aCBsQo3"
      },
      "source": [
        "waveform = wav_data / tf.int16.max"
      ],
      "execution_count": null,
      "outputs": []
    },
    {
      "cell_type": "markdown",
      "metadata": {
        "id": "e_Xwd4GPuMsB"
      },
      "source": [
        "## Izvršenje modela\n",
        "\n",
        "Koristeći već pripremljene podatke, samo treba pozvati model i dobiju se: ocjene, ugrađivanje i spektrogram.\n",
        "\n",
        "Score je glavni rezultat koji se koristi.\n",
        "Spektrogram sluzi za vizualizaciju."
      ]
    },
    {
      "cell_type": "code",
      "metadata": {
        "id": "BJGP6r-At_Jc"
      },
      "source": [
        "# Izvršavanje modela; provjera outputa\n",
        "scores, embeddings, spectrogram = model(waveform)"
      ],
      "execution_count": null,
      "outputs": []
    },
    {
      "cell_type": "code",
      "metadata": {
        "id": "Vmo7griQprDk"
      },
      "source": [
        "scores_np = scores.numpy()\n",
        "spectrogram_np = spectrogram.numpy()\n",
        "infered_class = class_names[scores_np.mean(axis=0).argmax()]\n",
        "print(f'Glavni prepoznati zvuk je : {infered_class}')"
      ],
      "execution_count": null,
      "outputs": []
    },
    {
      "cell_type": "markdown",
      "metadata": {
        "id": "Uj2xLf-P_ndS"
      },
      "source": [
        "## Vizualizacija\n",
        "\n",
        "\n",
        "YAMNet također vraća neke dodatne informacije koji se mogu koristiti za vizualizaciju.\n",
        "Dobiveni su  : valni oblik, spektrogram i zaključene glavne klase."
      ]
    },
    {
      "cell_type": "code",
      "metadata": {
        "id": "_QSTkmv7wr2M"
      },
      "source": [
        "plt.figure(figsize=(10, 6))\n",
        "\n",
        "# Plot the waveform.\n",
        "plt.subplot(3, 1, 1)\n",
        "plt.plot(waveform)\n",
        "plt.xlim([0, len(waveform)])\n",
        "\n",
        "# Plot the log-mel spectrogram (returned by the model).\n",
        "plt.subplot(3, 1, 2)\n",
        "plt.imshow(spectrogram_np.T, aspect='auto', interpolation='nearest', origin='lower')\n",
        "\n",
        "# Plot and label the model output scores for the top-scoring classes.\n",
        "mean_scores = np.mean(scores, axis=0)\n",
        "top_n = 10\n",
        "top_class_indices = np.argsort(mean_scores)[::-1][:top_n]\n",
        "plt.subplot(3, 1, 3)\n",
        "plt.imshow(scores_np[:, top_class_indices].T, aspect='auto', interpolation='nearest', cmap='gray_r')\n",
        "\n",
        "# patch_padding = (PATCH_WINDOW_SECONDS / 2) / PATCH_HOP_SECONDS\n",
        "# values from the model documentation\n",
        "patch_padding = (0.025 / 2) / 0.01\n",
        "plt.xlim([-patch_padding-0.5, scores.shape[0] + patch_padding-0.5])\n",
        "# Label the top_N classes.\n",
        "yticks = range(0, top_n, 1)\n",
        "plt.yticks(yticks, [class_names[top_class_indices[x]] for x in yticks])\n",
        "_ = plt.ylim(-0.5 + np.array([top_n, 0]))"
      ],
      "execution_count": null,
      "outputs": []
    },
    {
      "cell_type": "markdown",
      "metadata": {
        "id": "hxyoM4DxsaWH"
      },
      "source": [
        "## DRUGI DIO - obrada audio podataka\r\n",
        "\r\n",
        "Priprema i povećanje audio podataka"
      ]
    },
    {
      "cell_type": "markdown",
      "metadata": {
        "id": "QJTWJL0HvP_G"
      },
      "source": [
        "## Pregled\r\n",
        "\r\n",
        "Jedan od najvećih izazova u automatskom prepoznavanju govora je priprema i povećanje audio podataka. Analiza audio podataka može biti u vremenskoj ili frekvencijskoj domeni, što dodaje dodatni kompleks u usporedbi s drugim izvorima podataka, poput slika.\r\n",
        "\r\n",
        "Kao dio ekosustava TensorFlow, paket `tensorflow-io` pruža nekoliko korisnih API-ja povezanih sa zvukom koji pomažu u olakšavanju pripreme i povećanja audio podataka."
      ]
    },
    {
      "cell_type": "markdown",
      "metadata": {
        "id": "lt1MOq1VvVU8"
      },
      "source": [
        "## Postavke\r\n"
      ]
    },
    {
      "cell_type": "markdown",
      "metadata": {
        "id": "x8B1JWztvc6N"
      },
      "source": [
        "### Instalacija potrebnih paketa"
      ]
    },
    {
      "cell_type": "code",
      "metadata": {
        "id": "mpMb_Hl1sdZI"
      },
      "source": [
        "!pip install tensorflow-io"
      ],
      "execution_count": null,
      "outputs": []
    },
    {
      "cell_type": "markdown",
      "metadata": {
        "id": "wqLg-JBAvgxF"
      },
      "source": [
        "## Korištenje"
      ]
    },
    {
      "cell_type": "markdown",
      "metadata": {
        "id": "FmoboBtavnLm"
      },
      "source": [
        "### Čitanje audio datoteke\r\n",
        "\r\n",
        "U TensorFlow-IO-u, klasa `tfio.audio.AudioIOTensor` omogućuje čitanje audio datoteke u učitani` IOTensor`:"
      ]
    },
    {
      "cell_type": "code",
      "metadata": {
        "id": "KyqbrvT2sma1"
      },
      "source": [
        "import tensorflow as tf\r\n",
        "import tensorflow_io as tfio\r\n",
        "\r\n",
        "#audio = tfio.audio.AudioIOTensor('orkestar33.wav')\r\n",
        "audio = tfio.audio.AudioIOTensor('Govor_strojno_ucenje01.wav') \r\n",
        "\r\n",
        "print(audio)\r\n"
      ],
      "execution_count": null,
      "outputs": []
    },
    {
      "cell_type": "markdown",
      "metadata": {
        "id": "P3asv8UBvq8l"
      },
      "source": [
        "\r\n",
        "`AudioIOTensor` je lazy-loaded, tako da su u početku prikazani samo oblik, vrsta i brzina uzorkovanja. Oblik `AudioIOTensor` predstavljen je kao` [uzorci, kanali] `, što znači da je učitani audio isječak koji ste mono kanal s` 28979` uzorcima u `int16`."
      ]
    },
    {
      "cell_type": "markdown",
      "metadata": {
        "id": "a0nCiIDWv3Cm"
      },
      "source": [
        "Sadržaj audio isječka čitat će se samo po potrebi, bilo pretvaranjem `AudioIOTensor` u` Tensor` kroz `to_tensor ()` ili rezanjem. Rezanje je posebno korisno kada je potreban samo mali dio velikog audio isječka:"
      ]
    },
    {
      "cell_type": "code",
      "metadata": {
        "id": "V_UwrqW5tVg8"
      },
      "source": [
        "audio_slice = audio[5:]\r\n",
        "\r\n",
        "#  uklanjamo zadnju dimenziju\r\n",
        "audio_tensor = tf.squeeze(audio_slice, axis=[-1])\r\n",
        "\r\n",
        "print(audio_tensor)\r\n"
      ],
      "execution_count": null,
      "outputs": []
    },
    {
      "cell_type": "markdown",
      "metadata": {
        "id": "zOX61t9dv8yM"
      },
      "source": [
        "Audio može biti pokrenut i preslušan kroz:"
      ]
    },
    {
      "cell_type": "code",
      "metadata": {
        "id": "KchuqzU5uH82"
      },
      "source": [
        "from IPython.display import Audio\r\n",
        "\r\n",
        "Audio(audio_tensor.numpy(), rate=audio.rate.numpy())"
      ],
      "execution_count": null,
      "outputs": []
    },
    {
      "cell_type": "markdown",
      "metadata": {
        "id": "RidkZzj7wBPY"
      },
      "source": [
        "Pogodnije je pretvoriti tenzor u float brojeve i prikazati audio isječak na grafikonu:"
      ]
    },
    {
      "cell_type": "code",
      "metadata": {
        "id": "JvFZD9_Wu9Jx"
      },
      "source": [
        "import matplotlib.pyplot as plt\r\n",
        "\r\n",
        "\r\n",
        "tensor = tf.cast(audio_tensor, tf.float32) / 32768.0\r\n",
        "\r\n",
        "plt.figure()\r\n",
        "plt.plot(tensor.numpy())"
      ],
      "execution_count": null,
      "outputs": []
    },
    {
      "cell_type": "markdown",
      "metadata": {
        "id": "Bu7wCbQvwE-E"
      },
      "source": [
        "### Smanjivanje šumova\r\n",
        "\r\n",
        "Ponekad ima smisla smanjiti šumove iz zvuka, što se može učiniti putem API `tfio.experimental.audio.trim`. Iz API-ja je vraćen par položaja `[start, stop]` segmenta:"
      ]
    },
    {
      "cell_type": "code",
      "metadata": {
        "id": "ssYq7WlBvCRC"
      },
      "source": [
        "position = tfio.experimental.audio.trim(tensor, axis=0, epsilon=0.1)\r\n",
        "print(position)\r\n",
        "\r\n",
        "start = position[0]\r\n",
        "stop = position[1]\r\n",
        "print(start, stop)\r\n",
        "\r\n",
        "processed = tensor[start:stop]\r\n",
        "\r\n",
        "plt.figure()\r\n",
        "plt.plot(processed.numpy())"
      ],
      "execution_count": null,
      "outputs": []
    },
    {
      "cell_type": "markdown",
      "metadata": {
        "id": "rwxMhkVPwKlT"
      },
      "source": [
        "### Fade In i Fade Out\r\n",
        "\r\n",
        "Jedna korisna tehnika audio inžinjeringa je *fade* koja postupno povećava ili smanjuje audio signale. To se može učiniti putem `tfio.experimental.audio.fade`. `tfio.experimental.audio.fade` podržava različite oblike *fade* -a  kao što su\" linearni \",\" logaritamski \"ili\" eksponencijalni \":"
      ]
    },
    {
      "cell_type": "code",
      "metadata": {
        "id": "PWhE_n_OwH2j"
      },
      "source": [
        "fade = tfio.experimental.audio.fade(\r\n",
        "    processed, fade_in=1000, fade_out=2000, mode=\"logarithmic\")\r\n",
        "\r\n",
        "plt.figure()\r\n",
        "plt.plot(fade.numpy())"
      ],
      "execution_count": null,
      "outputs": []
    },
    {
      "cell_type": "markdown",
      "metadata": {
        "id": "aVFEPtbQwQON"
      },
      "source": [
        "### Spektrogram\r\n",
        "\r\n",
        "Napredna obrada zvuka često djeluje na promjene frekvencije tijekom vremena. U `tensorflow-io` valni oblik može se pretvoriti u spektrogram putem` tfio.experimental.audio.spectrogram`:"
      ]
    },
    {
      "cell_type": "code",
      "metadata": {
        "id": "nyTSq6zkwNkO"
      },
      "source": [
        "#Konvertiranje u spektogram\r\n",
        "spectrogram = tfio.experimental.audio.spectrogram(\r\n",
        "    fade, nfft=512, window=512, stride=256)\r\n",
        "\r\n",
        "plt.figure()\r\n",
        "plt.imshow(tf.math.log(spectrogram).numpy())"
      ],
      "execution_count": null,
      "outputs": []
    },
    {
      "cell_type": "markdown",
      "metadata": {
        "id": "0ews6uZVwZ1D"
      },
      "source": [
        "Moguće su i dodatne transformacije u različite ljestvice:"
      ]
    },
    {
      "cell_type": "code",
      "metadata": {
        "id": "hrNt0jUHwSqO"
      },
      "source": [
        "# Konvertiraj u  mel-spektogram\r\n",
        "mel_spectrogram = tfio.experimental.audio.melscale(\r\n",
        "    spectrogram, rate=16000, mels=128, fmin=0, fmax=8000)\r\n",
        "\r\n",
        "\r\n",
        "plt.figure()\r\n",
        "plt.imshow(tf.math.log(mel_spectrogram).numpy())\r\n",
        "\r\n",
        "# Konvertiraj u db scale  mel-spektogram\r\n",
        "dbscale_mel_spectrogram = tfio.experimental.audio.dbscale(\r\n",
        "    mel_spectrogram, top_db=80)\r\n",
        "\r\n",
        "plt.figure()\r\n",
        "plt.imshow(dbscale_mel_spectrogram.numpy())"
      ],
      "execution_count": null,
      "outputs": []
    },
    {
      "cell_type": "markdown",
      "metadata": {
        "id": "pZnKIIbywggD"
      },
      "source": [
        "### SpecAugment\r\n",
        "\r\n",
        "Uz gore spomenute API-je za pripremu i proširivanje podataka, paket `tensorflow-io` također nudi napredne augmentacije spektrograma, ponajviše maskiranje frekvencije i vremena o kojima se raspravlja u [SpecAugment: Jednostavna metoda povećanja podataka za automatsko prepoznavanje govora (Park i sur., 2019)] (https://arxiv.org/pdf/1904.08779.pdf)."
      ]
    },
    {
      "cell_type": "markdown",
      "metadata": {
        "id": "m30i9Qzwwj7m"
      },
      "source": [
        "#### Maskiranje frekvencije\r\n",
        "\r\n",
        "U maskiranju frekvencije, maskirani su frekvencijski kanali `[f0, f0 + f)` gdje je `f 'odabran iz ujednačene raspodjele od' 0 'do parametra frekvencijske maske` F', a `f0 'je odabran od` (0 , ν - f) `gdje je` ν` broj frekvencijskih kanala."
      ]
    },
    {
      "cell_type": "code",
      "metadata": {
        "id": "Fsz_8GjtwcFd"
      },
      "source": [
        "# Freq masking\r\n",
        "freq_mask = tfio.experimental.audio.freq_mask(dbscale_mel_spectrogram, param=10)\r\n",
        "\r\n",
        "plt.figure()\r\n",
        "plt.imshow(freq_mask.numpy())"
      ],
      "execution_count": null,
      "outputs": []
    },
    {
      "cell_type": "markdown",
      "metadata": {
        "id": "FiuPkYFJwoq4"
      },
      "source": [
        "#### Maskiranje vremena\r\n",
        "\r\n",
        "U maskiranju vremena maskirani su `t` uzastopni vremenski koraci` [t0, t0 + t) `gdje je` t` odabran iz jednolike raspodjele od `0` do parametra vremenske maske` T`, a odabran je `t0` od `[0, τ - t)` gdje su 'τ' vremenski koraci.Ž"
      ]
    },
    {
      "cell_type": "code",
      "metadata": {
        "id": "KIiziL3cwmZ-"
      },
      "source": [
        "# Time masking\r\n",
        "time_mask = tfio.experimental.audio.time_mask(dbscale_mel_spectrogram, param=10)\r\n",
        "\r\n",
        "plt.figure()\r\n",
        "plt.imshow(time_mask.numpy())"
      ],
      "execution_count": null,
      "outputs": []
    }
  ]
}